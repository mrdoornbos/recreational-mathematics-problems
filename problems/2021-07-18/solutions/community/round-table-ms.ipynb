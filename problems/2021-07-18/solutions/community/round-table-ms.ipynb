{
 "cells": [
  {
   "cell_type": "markdown",
   "id": "239887b9-70c9-41c1-90fc-292071673a17",
   "metadata": {},
   "source": [
    "# Inputs"
   ]
  },
  {
   "cell_type": "code",
   "execution_count": 1,
   "id": "7529164b-985a-499e-9342-cbae093c838f",
   "metadata": {},
   "outputs": [],
   "source": [
    "ARTHUR_RULES = {\n",
    "    # Arthur insists that Lancelot should sit on his right and that Kay should\n",
    "    # occupy the seat on Arthur's left\n",
    "    'left': 'Kay',\n",
    "    'right': 'Lancelot'\n",
    "}\n",
    "\n",
    "INCL_RULES = {\n",
    "    # Bedivere refuses to sit next to anyone but Lionel and Tristan\n",
    "    'Bedivere': {'Lionel', 'Tristan'}\n",
    "}\n",
    "\n",
    "EXCL_RULES = {\n",
    "    # Gawain won't sit next to Tristan, Lancelot, or Lionel\n",
    "    'Gawain': {'Tristan', 'Lancelot', 'Lionel'},\n",
    "    # Gareth won't sit next to Galahad, Lancelot, or Kay\n",
    "    'Gareth': {'Galahad', 'Lancelot', 'Kay'},\n",
    "    # Perceval objects to sitting next to Galahad, Lancelot, or, Lionel\n",
    "    'Perceval': {'Galahad', 'Lancelot', 'Lionel'},\n",
    "    # Tristan refuses to sit next to Lancelot, Perceval, or Kay\n",
    "    'Tristan': {'Lancelot', 'Perceval', 'Kay'},\n",
    "    # Galahad will sit next to anyone except Gawain and Kay\n",
    "    'Galahad': {'Gawain', 'Kay'},\n",
    "    # Lionel will not sit next to Galahad\n",
    "    'Lionel': {'Galahad'}\n",
    "}"
   ]
  },
  {
   "cell_type": "markdown",
   "id": "6e235d8a-b27b-4235-a84d-4483df58985c",
   "metadata": {},
   "source": [
    "# Helper functions"
   ]
  },
  {
   "cell_type": "code",
   "execution_count": 2,
   "id": "9e395e20-9862-482e-ae1f-ffa3b980d9c2",
   "metadata": {},
   "outputs": [],
   "source": [
    "def get_knights():\n",
    "    return {\n",
    "        *ARTHUR_RULES.values(),\n",
    "        *INCL_RULES,\n",
    "        *set.union(*INCL_RULES.values()),\n",
    "        *EXCL_RULES,\n",
    "        *set.union(*EXCL_RULES.values())\n",
    "    }\n",
    "\n",
    "def check_pair(knight_i, knight_j):\n",
    "    reject_conditions = (\n",
    "        {knight_i, knight_j}.issubset(ARTHUR_RULES.values()),\n",
    "        knight_i in EXCL_RULES and knight_j in EXCL_RULES[knight_i],\n",
    "        knight_j in EXCL_RULES and knight_i in EXCL_RULES[knight_j],\n",
    "        knight_i in INCL_RULES and knight_j not in INCL_RULES[knight_i],\n",
    "        knight_j in INCL_RULES and knight_i not in INCL_RULES[knight_j]\n",
    "    )\n",
    "    return not any(reject_conditions)\n",
    "\n",
    "def get_pairs(knights):\n",
    "    n_knights = len(knights)\n",
    "    knights_ = sorted(knights)\n",
    "    return {\n",
    "        frozenset({knights_[i], knights_[j]})\n",
    "        for i in range(n_knights - 1)\n",
    "        for j in range(i + 1, n_knights)\n",
    "        if check_pair(knights_[i], knights_[j])\n",
    "    }\n",
    "\n",
    "def get_rules(knights, pairs):\n",
    "    return {\n",
    "        knight: {\n",
    "            other_knight\n",
    "            for other_knight in sorted(knights - {knight})\n",
    "            if {knight, other_knight} in pairs\n",
    "        }\n",
    "        for knight in sorted(knights)\n",
    "    }"
   ]
  },
  {
   "cell_type": "markdown",
   "id": "e26aa861-a7db-471b-a1a3-a8a6db3fd832",
   "metadata": {},
   "source": [
    "# Testing helper functions (not a part of the solution):"
   ]
  },
  {
   "cell_type": "code",
   "execution_count": 3,
   "id": "55bb7e61-f261-4242-907c-3d7ca878cd30",
   "metadata": {},
   "outputs": [
    {
     "name": "stdout",
     "output_type": "stream",
     "text": [
      "all knights (9):\n",
      "  ['Bedivere', 'Galahad', 'Gareth', 'Gawain', 'Kay', 'Lancelot', 'Lionel', 'Perceval', 'Tristan']\n",
      "pairs of knights that might seat next to each other (14):\n",
      "  ['Bedivere', 'Lionel']\n",
      "  ['Bedivere', 'Tristan']\n",
      "  ['Galahad', 'Lancelot']\n",
      "  ['Galahad', 'Tristan']\n",
      "  ['Gareth', 'Gawain']\n",
      "  ['Gareth', 'Lionel']\n",
      "  ['Gareth', 'Perceval']\n",
      "  ['Gareth', 'Tristan']\n",
      "  ['Gawain', 'Kay']\n",
      "  ['Gawain', 'Perceval']\n",
      "  ['Kay', 'Lionel']\n",
      "  ['Kay', 'Perceval']\n",
      "  ['Lancelot', 'Lionel']\n",
      "  ['Lionel', 'Tristan']\n",
      "acceptable neighbors for each knight:\n",
      "  Bedivere (2): ['Lionel', 'Tristan']\n",
      "  Galahad (2): ['Lancelot', 'Tristan']\n",
      "  Gareth (4): ['Gawain', 'Lionel', 'Perceval', 'Tristan']\n",
      "  Gawain (3): ['Gareth', 'Kay', 'Perceval']\n",
      "  Kay (3): ['Gawain', 'Lionel', 'Perceval']\n",
      "  Lancelot (2): ['Galahad', 'Lionel']\n",
      "  Lionel (5): ['Bedivere', 'Gareth', 'Kay', 'Lancelot', 'Tristan']\n",
      "  Perceval (3): ['Gareth', 'Gawain', 'Kay']\n",
      "  Tristan (4): ['Bedivere', 'Galahad', 'Gareth', 'Lionel']\n"
     ]
    }
   ],
   "source": [
    "knights = get_knights()\n",
    "knights_ = sorted(knights)\n",
    "print(f'all knights ({len(knights)}):\\n  {knights_}')\n",
    "\n",
    "pairs = get_pairs(knights)\n",
    "pairs_ = sorted(sorted(pair) for pair in pairs)\n",
    "print(f'pairs of knights that might seat next to each other ({len(pairs)}):')\n",
    "for pair in pairs_:\n",
    "    print(f'  {pair}')\n",
    "\n",
    "rules = get_rules(set(knights), pairs)\n",
    "print('acceptable neighbors for each knight:')\n",
    "for knight, nbors in rules.items():\n",
    "    print(f'  {knight} ({len(nbors)}): {sorted(nbors)}')"
   ]
  },
  {
   "cell_type": "markdown",
   "id": "6021e5b6-d297-437b-8ab7-2f97849fd52b",
   "metadata": {},
   "source": [
    "# Solutions without programming — the elimination approach\n",
    "\n",
    "This matrix denotes acceptable pairs of knights with the symbol \"X\":\n",
    "\n",
    "|              | Arthur   | Bedivere | Galahad  | Gareth   | Gawain   | Kay      | Lancelot | Lionel   | Perceval | Tristan  |\n",
    "|:------------:|:--------:|:--------:|:--------:|:--------:|:--------:|:--------:|:--------:|:--------:|:--------:|:--------:|\n",
    "| **Arthur**   |          |          |          |          |          | X        | X        |          |          |          |\n",
    "| **Bedivere** |          |          |          |          |          |          |          | X        |          | X        |\n",
    "| **Galahad**  |          |          |          |          |          |          | X        |          |          | X        |\n",
    "| **Gareth**   |          |          |          |          | X        |          |          | X        | X        | X        |\n",
    "| **Gawain**   |          |          |          | X        |          | X        |          |          | X        |          |\n",
    "| **Kay**      | X        |          |          |          | X        |          |          | X        | X        |          |\n",
    "| **Lancelot** | X        |          | X        |          |          |          |          | X        |          |          |\n",
    "| **Lionel**   |          | X        |          | X        |          | X        | X        |          |          | X        |\n",
    "| **Perceval** |          |          |          | X        | X        | X        |          |          |          |          |\n",
    "| **Tristan**  |          | X        | X        | X        |          |          |          | X        |          |          |\n",
    "\n",
    "The matrix is symmetric because being in an acceptable (or unacceptable) pair is a symmetric relation.\n",
    "\n",
    "This matrix will help us eliminate the pairs of knights that don't want to seat next to each other, i.e. the infeasible arrangements that contain such pairs.\n",
    "\n",
    "----\n",
    "\n",
    "The knights of special interest for the elimination approach are **Bedivere** and **Galahad** because each of them has only two acceptable pairs:\n",
    "\n",
    "* **Bedivere** accepts only and must seat between **Lionel** and **Tristan**\n",
    "* **Galahad** accepts only and must seat between **Lancelot** and **Tristan**\n",
    "\n",
    "This also means that **Tristan** must be between **Bedivere** and **Galahad**.\n",
    "\n",
    "Let's now start with what the king wants. King **Arthur** wants this arrangement:\n",
    "\n",
    "* `Arthur Lancelot X1 X2 X3 X4 X5 X6 X7 Kay`\n",
    "\n",
    "where `X1`, `X2`, …, `X7` are unknowns. Of course, the table is round, so **Kay** will be next to (to the left of) **Arthur**.\n",
    "\n",
    "**Lancelot** is acceptable only to **Galahad** and **Lionel** (and **Kay**, but that's not what **Arthur** wants), so one of them must be at `X1`. Therefore, two possible arrangements are:\n",
    "\n",
    "1. `Arthur Lancelot Lionel X2 X3 X4 X5 X6 X7 Kay`\n",
    "1. `Arthur Lancelot Galahad X2 X3 X4 X5 X6 X7 Kay`\n",
    "\n",
    "The first arrangement (`Arthur Lancelot Lionel X2 X3 X4 X5 X6 X7 Kay`) is infeasible because **Galahad** must seat between **Lancelot** and **Tristan**.\n",
    "\n",
    "Let's examine the second arrangement (`Arthur Lancelot Galahad X2 X3 X4 X5 X6 X7 Kay`):\n",
    "\n",
    "* **Galahad** must seat between **Lancelot** and **Tristan**, so it's only possible to have **Tristan** at `X2`:\n",
    "\n",
    "  * `Arthur Lancelot Galahad Tristan X3 X4 X5 X6 X7 Kay`\n",
    "\n",
    "* **Bedivere** must be between **Lionel** and **Tristan**, so we must have **Bedivere** at `X3` and **Lionel** at `X4`:\n",
    "\n",
    "  * `Arthur Lancelot Galahad Tristan Bedivere Lionel X5 X6 X7 Kay`\n",
    "\n",
    "* The only remaining knight who wants to seat next to **Lionel** is **Gareth** who must get `X5`, while **Gawain** and **Perceval** might take the remaining seats `X6` and `X7`:\n",
    "\n",
    "  * `Arthur Lancelot Galahad Tristan Bedivere Lionel Gareth Gawain Perceval Kay`\n",
    "  * `Arthur Lancelot Galahad Tristan Bedivere Lionel Gareth Perceval Gawain Kay`\n",
    "\n",
    "**These two solutions are _feasible_!**"
   ]
  },
  {
   "cell_type": "markdown",
   "id": "a9b56108-2175-4684-8fec-a41b8e80cbf9",
   "metadata": {},
   "source": [
    "# Solution with recursive programming"
   ]
  },
  {
   "cell_type": "code",
   "execution_count": 4,
   "id": "cf607439-62e7-4790-8599-28bbcfbd8e8e",
   "metadata": {},
   "outputs": [],
   "source": [
    "class Solver:\n",
    "    def __init__(self):\n",
    "        self.__solutions = []\n",
    "        self.__knights = get_knights()\n",
    "        self.__n_knights = len(self.__knights)\n",
    "        self.__rules = get_rules(self.__knights, get_pairs(self.__knights))\n",
    "\n",
    "    def _next(self, positions, remain_knights):\n",
    "        if remain_knights:\n",
    "            rules = self.__rules\n",
    "            idx = self.__n_knights - len(remain_knights)\n",
    "            left_knight, right_knight = positions[idx - 1], positions[idx + 1]\n",
    "            nbors_for_left_knight = rules[left_knight]\n",
    "            nbors_for_right_knight = (\n",
    "                self.__knights if right_knight is None else rules[right_knight]\n",
    "            )\n",
    "            allowed_nbors = remain_knights.intersection(\n",
    "                nbors_for_left_knight, nbors_for_right_knight\n",
    "            )\n",
    "            for nbor in allowed_nbors:\n",
    "                new_positions = positions.copy()\n",
    "                new_positions[idx] = nbor\n",
    "                self._next(new_positions, remain_knights - {nbor})\n",
    "        else:\n",
    "            self.__solutions.append(positions.copy())\n",
    "\n",
    "    def solve(self):\n",
    "        # Start with the positions required by Arthur and continue recursively\n",
    "        left_knight, right_knight = ARTHUR_RULES['left'], ARTHUR_RULES['right']\n",
    "        remain_knights = self.__knights - {left_knight, right_knight}\n",
    "        empty_seats = [None] * len(remain_knights)\n",
    "        positions = ['Arthur', right_knight, *empty_seats, left_knight]\n",
    "        self._next(positions, remain_knights)\n",
    "        return self.__solutions.copy()"
   ]
  },
  {
   "cell_type": "code",
   "execution_count": 5,
   "id": "e5c0354a-f4e4-4285-bd5b-5220c95497e5",
   "metadata": {},
   "outputs": [],
   "source": [
    "result = Solver().solve()"
   ]
  },
  {
   "cell_type": "code",
   "execution_count": 6,
   "id": "579695b4-93d9-467c-8c32-b22c2aa81238",
   "metadata": {},
   "outputs": [
    {
     "name": "stdout",
     "output_type": "stream",
     "text": [
      "Possible combinations (2):\n",
      "  ['Arthur', 'Lancelot', 'Galahad', 'Tristan', 'Bedivere', 'Lionel', 'Gareth', 'Perceval', 'Gawain', 'Kay']\n",
      "  ['Arthur', 'Lancelot', 'Galahad', 'Tristan', 'Bedivere', 'Lionel', 'Gareth', 'Gawain', 'Perceval', 'Kay']\n"
     ]
    }
   ],
   "source": [
    "print(f'Possible combinations ({len(result)}):')\n",
    "for item in result:\n",
    "    print(f'  {item}')"
   ]
  },
  {
   "cell_type": "code",
   "execution_count": null,
   "id": "82e4530f-ec65-460e-a5fd-59af06cad23d",
   "metadata": {},
   "outputs": [],
   "source": []
  }
 ],
 "metadata": {
  "kernelspec": {
   "display_name": "Python 3 (ms-sci)",
   "language": "python",
   "name": "ms-sci"
  },
  "language_info": {
   "codemirror_mode": {
    "name": "ipython",
    "version": 3
   },
   "file_extension": ".py",
   "mimetype": "text/x-python",
   "name": "python",
   "nbconvert_exporter": "python",
   "pygments_lexer": "ipython3",
   "version": "3.9.5"
  }
 },
 "nbformat": 4,
 "nbformat_minor": 5
}
