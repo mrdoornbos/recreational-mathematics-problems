{
 "cells": [
  {
   "cell_type": "markdown",
   "source": [
    "# Knights of the Round Table Solution\n",
    "by David Amos"
   ],
   "metadata": {}
  },
  {
   "cell_type": "markdown",
   "source": [
    "## Set Up The Seating Preferences"
   ],
   "metadata": {}
  },
  {
   "cell_type": "code",
   "execution_count": 26,
   "source": [
    "knights = {\n",
    "    \"Arthur\",\n",
    "    \"Lancelot\",\n",
    "    \"Kay\",\n",
    "    \"Bedivere\",\n",
    "    \"Lionel\",\n",
    "    \"Tristan\",\n",
    "    \"Perceval\",\n",
    "    \"Gareth\",\n",
    "    \"Gawain\",\n",
    "    \"Galahad\",\n",
    "}\n",
    "\n",
    "seating_preferences = {\n",
    "    \"Arthur\": {\"Lancelot\", \"Kay\"},\n",
    "    \"Lancelot\": knights - {\"Lancelot\"},\n",
    "    \"Kay\": knights - {\"Kay\"},\n",
    "    \"Bedivere\": {\"Lionel\", \"Tristan\"},\n",
    "    \"Gawain\": knights - {\"Gawain\", \"Tristan\", \"Lancelot\", \"Lionel\"},\n",
    "    \"Gareth\": knights - {\"Gareth\", \"Galahad\", \"Lancelot\", \"Kay\"},\n",
    "    \"Perceval\": knights - {\"Perceval\", \"Galahad\", \"Lancelot\", \"Lionel\"},\n",
    "    \"Tristan\": knights - {\"Tristan\", \"Lancelot\", \"Perceval\", \"Kay\"},\n",
    "    \"Galahad\": knights - {\"Galahad\", \"Gawain\", \"Kay\"},\n",
    "    \"Lionel\": knights - {\"Lionel\", \"Galahad\"},\n",
    "}"
   ],
   "outputs": [],
   "metadata": {}
  },
  {
   "cell_type": "markdown",
   "source": [
    "# Build the Valid Seating Arrangements Graph\n",
    "\n",
    "In this graph, the knights are the nodes and two nodes are adjacent if and only if the knights are willing to sit next to each other.\n",
    "\n",
    "The graph is created as an adjacency list."
   ],
   "metadata": {}
  },
  {
   "cell_type": "code",
   "execution_count": 27,
   "source": [
    "knights_graph = {}\n",
    "for knight in seating_preferences:\n",
    "    knights_graph[knight] = []\n",
    "    for other in seating_preferences[knight]:\n",
    "        if knight in seating_preferences[other]:\n",
    "            knights_graph[knight].append(other)"
   ],
   "outputs": [],
   "metadata": {}
  },
  {
   "cell_type": "code",
   "execution_count": 28,
   "source": [
    "knights_graph"
   ],
   "outputs": [
    {
     "output_type": "execute_result",
     "data": {
      "text/plain": [
       "{'Arthur': ['Lancelot', 'Kay'],\n",
       " 'Lancelot': ['Kay', 'Arthur', 'Galahad', 'Lionel'],\n",
       " 'Kay': ['Arthur', 'Lancelot', 'Perceval', 'Lionel', 'Gawain'],\n",
       " 'Bedivere': ['Tristan', 'Lionel'],\n",
       " 'Gawain': ['Kay', 'Gareth', 'Perceval'],\n",
       " 'Gareth': ['Tristan', 'Perceval', 'Lionel', 'Gawain'],\n",
       " 'Perceval': ['Kay', 'Gareth', 'Gawain'],\n",
       " 'Tristan': ['Galahad', 'Bedivere', 'Gareth', 'Lionel'],\n",
       " 'Galahad': ['Lancelot', 'Tristan'],\n",
       " 'Lionel': ['Kay', 'Lancelot', 'Tristan', 'Bedivere', 'Gareth']}"
      ]
     },
     "metadata": {},
     "execution_count": 28
    }
   ],
   "metadata": {}
  },
  {
   "cell_type": "markdown",
   "source": [
    "## Find a Valid Seating Arrangement\n",
    "\n",
    "A valid seating arrangement is a cycle in the `knights_graph` that passes through each node exactly once. In other words, valid seating arrangements correspond to *Hamiltonian cycles* in the graph!"
   ],
   "metadata": {}
  },
  {
   "cell_type": "code",
   "execution_count": 29,
   "source": [
    "def hamiltonian_cycles(graph):\n",
    "    cycles = []\n",
    "\n",
    "    def find_cycles(start=None, path=()):\n",
    "        start = start or list(graph)[0]\n",
    "        path = (start, *path)\n",
    "        if (\n",
    "            len(path) == len(graph)\n",
    "            and path[-1] in graph[path[0]]\n",
    "            and (*path[-2::-1], path[-1]) not in cycles  # Avoids duplicate cycles that traversed in opposite directions\n",
    "        ):\n",
    "            cycles.append(path)\n",
    "            return\n",
    "        \n",
    "        for neighbor in graph[start]:\n",
    "            if neighbor not in path:\n",
    "                find_cycles(neighbor, path)\n",
    "\n",
    "    find_cycles()\n",
    "    return cycles"
   ],
   "outputs": [],
   "metadata": {}
  },
  {
   "cell_type": "code",
   "execution_count": 30,
   "source": [
    "cycles = hamiltonian_cycles(knights_graph)\n",
    "print(f\"Found {len(cycles)} valid seating arrangements:\")\n",
    "for cycle in cycles:\n",
    "    print(\"\\n\" + \", \".join(cycle))"
   ],
   "outputs": [
    {
     "output_type": "stream",
     "name": "stdout",
     "text": [
      "Found 2 valid seating arrangements:\n",
      "\n",
      "Kay, Gawain, Perceval, Gareth, Lionel, Bedivere, Tristan, Galahad, Lancelot, Arthur\n",
      "\n",
      "Kay, Perceval, Gawain, Gareth, Lionel, Bedivere, Tristan, Galahad, Lancelot, Arthur\n"
     ]
    }
   ],
   "metadata": {}
  },
  {
   "cell_type": "code",
   "execution_count": null,
   "source": [],
   "outputs": [],
   "metadata": {}
  }
 ],
 "metadata": {
  "orig_nbformat": 4,
  "language_info": {
   "name": "python",
   "version": "3.8.4",
   "mimetype": "text/x-python",
   "codemirror_mode": {
    "name": "ipython",
    "version": 3
   },
   "pygments_lexer": "ipython3",
   "nbconvert_exporter": "python",
   "file_extension": ".py"
  },
  "kernelspec": {
   "name": "python3",
   "display_name": "Python 3.8.4 64-bit"
  },
  "interpreter": {
   "hash": "0adcc2737ebf6a4a119f135174df96668767fca1ef1112612db5ecadf2b6d608"
  }
 },
 "nbformat": 4,
 "nbformat_minor": 2
}