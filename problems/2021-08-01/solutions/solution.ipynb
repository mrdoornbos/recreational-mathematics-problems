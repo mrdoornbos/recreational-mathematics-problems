{
 "cells": [
  {
   "cell_type": "markdown",
   "source": [
    "# Blank Division Solution\n",
    "by David Amos"
   ],
   "metadata": {}
  },
  {
   "cell_type": "markdown",
   "source": [
    "## Using Brute Force"
   ],
   "metadata": {}
  },
  {
   "cell_type": "code",
   "execution_count": 1,
   "source": [
    "import itertools"
   ],
   "outputs": [],
   "metadata": {}
  },
  {
   "cell_type": "code",
   "execution_count": 2,
   "source": [
    "orderings = itertools.permutations([4, 9, 8])"
   ],
   "outputs": [],
   "metadata": {}
  },
  {
   "cell_type": "code",
   "execution_count": 3,
   "source": [
    "orderings = list(orderings)\n",
    "orderings"
   ],
   "outputs": [
    {
     "output_type": "execute_result",
     "data": {
      "text/plain": [
       "[(4, 9, 8), (4, 8, 9), (9, 4, 8), (9, 8, 4), (8, 4, 9), (8, 9, 4)]"
      ]
     },
     "metadata": {},
     "execution_count": 3
    }
   ],
   "metadata": {}
  },
  {
   "cell_type": "code",
   "execution_count": 4,
   "source": [
    "number_with_blanks = \"5_3_1_672\"\n",
    "valid_orderings = []\n",
    "for ordering in orderings:\n",
    "    number_list = list(number_with_blanks)\n",
    "    number_list[1] = str(ordering[0])\n",
    "    number_list[3] = str(ordering[1])\n",
    "    number_list[5] = str(ordering[2])\n",
    "    resulting_number = int(\"\".join(number_list))\n",
    "    if resulting_number % 792 == 0:\n",
    "        valid_orderings.append(ordering)"
   ],
   "outputs": [],
   "metadata": {}
  },
  {
   "cell_type": "code",
   "execution_count": 5,
   "source": [
    "len(valid_orderings)"
   ],
   "outputs": [
    {
     "output_type": "execute_result",
     "data": {
      "text/plain": [
       "6"
      ]
     },
     "metadata": {},
     "execution_count": 5
    }
   ],
   "metadata": {}
  },
  {
   "cell_type": "code",
   "execution_count": 6,
   "source": [
    "valid_orderings"
   ],
   "outputs": [
    {
     "output_type": "execute_result",
     "data": {
      "text/plain": [
       "[(4, 9, 8), (4, 8, 9), (9, 4, 8), (9, 8, 4), (8, 4, 9), (8, 9, 4)]"
      ]
     },
     "metadata": {},
     "execution_count": 6
    }
   ],
   "metadata": {}
  },
  {
   "cell_type": "markdown",
   "source": [
    "## Using Divisibility Rules"
   ],
   "metadata": {}
  },
  {
   "cell_type": "markdown",
   "source": [
    "## Is the number divisible by 8?\n",
    "\n",
    "The last three digits are 672, and you can use the modulo operator to check that 672 is divisible by 8:"
   ],
   "metadata": {}
  },
  {
   "cell_type": "code",
   "execution_count": 7,
   "source": [
    "672 % 8"
   ],
   "outputs": [
    {
     "output_type": "execute_result",
     "data": {
      "text/plain": [
       "0"
      ]
     },
     "metadata": {},
     "execution_count": 7
    }
   ],
   "metadata": {}
  },
  {
   "cell_type": "markdown",
   "source": [
    "## Is the number divisible by 9?\n",
    "\n",
    "Pick an ordering, say `(4, 8, 9)`, fill in the blanks with the numbers, and check if the sum of digits is divisible by 9."
   ],
   "metadata": {}
  },
  {
   "cell_type": "code",
   "execution_count": 8,
   "source": [
    "number = \"543819672\"\n",
    "number_list = [int(n) for n in number]"
   ],
   "outputs": [],
   "metadata": {}
  },
  {
   "cell_type": "code",
   "execution_count": 9,
   "source": [
    "number_list"
   ],
   "outputs": [
    {
     "output_type": "execute_result",
     "data": {
      "text/plain": [
       "[5, 4, 3, 8, 1, 9, 6, 7, 2]"
      ]
     },
     "metadata": {},
     "execution_count": 9
    }
   ],
   "metadata": {}
  },
  {
   "cell_type": "code",
   "execution_count": 10,
   "source": [
    "sum(number_list) % 9"
   ],
   "outputs": [
    {
     "output_type": "execute_result",
     "data": {
      "text/plain": [
       "0"
      ]
     },
     "metadata": {},
     "execution_count": 10
    }
   ],
   "metadata": {}
  },
  {
   "cell_type": "markdown",
   "source": [
    "The order of the digits used to fill in the blanks doesn't matter here, so no matter how we fill in the blanks the resulting number will be divisible by 9."
   ],
   "metadata": {}
  },
  {
   "cell_type": "markdown",
   "source": [
    "## Is the number divisible by 11?\n",
    "\n",
    "Sum the even indices in `number_list` then subract the sum of the odd indices to get the alternating sum of the digits. Check if that is divisible by 11."
   ],
   "metadata": {}
  },
  {
   "cell_type": "code",
   "execution_count": 11,
   "source": [
    "(sum(number_list[::2]) - sum(number_list[1::2])) % 11"
   ],
   "outputs": [
    {
     "output_type": "execute_result",
     "data": {
      "text/plain": [
       "0"
      ]
     },
     "metadata": {},
     "execution_count": 11
    }
   ],
   "metadata": {}
  },
  {
   "cell_type": "markdown",
   "source": [
    "All of the blank digits are have an odd index in the number list, so no matter how we fill in the blanks, those digits end up in the sum that is subtracted. That means that we can choose any ordering we want and end up with a number that is divisible by 11."
   ],
   "metadata": {}
  },
  {
   "cell_type": "markdown",
   "source": [
    "Since the number is divisible by 8, 9, and 11 using the order `(4, 8, 9)`, and the ordering of the digits that fill in the blanks doesn't matter, then all six orderings result in a number divisible by 792."
   ],
   "metadata": {}
  },
  {
   "cell_type": "code",
   "execution_count": null,
   "source": [],
   "outputs": [],
   "metadata": {}
  }
 ],
 "metadata": {
  "orig_nbformat": 4,
  "language_info": {
   "name": "python",
   "version": "3.9.6",
   "mimetype": "text/x-python",
   "codemirror_mode": {
    "name": "ipython",
    "version": 3
   },
   "pygments_lexer": "ipython3",
   "nbconvert_exporter": "python",
   "file_extension": ".py"
  },
  "kernelspec": {
   "name": "python3",
   "display_name": "Python 3.9.6 64-bit"
  },
  "interpreter": {
   "hash": "aee8b7b246df8f9039afb4144a1f6fd8d2ca17a180786b69acc140d282b71a49"
  }
 },
 "nbformat": 4,
 "nbformat_minor": 2
}